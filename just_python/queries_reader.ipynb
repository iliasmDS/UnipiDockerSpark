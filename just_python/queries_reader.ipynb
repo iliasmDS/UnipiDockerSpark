{
 "cells": [
  {
   "cell_type": "code",
   "execution_count": 1,
   "metadata": {},
   "outputs": [],
   "source": [
    "import os, numpy as np, pandas as pd\n",
    "\n",
    "def get_queries(path):\n",
    "\n",
    "    total_bytes = os.path.getsize(path)\n",
    "\n",
    "    columns = ['batch', 'vector', 'queries', 'query_type', 'v', 'l', 'r'] + [f'f{i}' for i in range(1, 101)]\n",
    "    data = [] \n",
    "\n",
    "    with open(path, 'rb') as file:\n",
    "        batch = 0\n",
    "\n",
    "        while file.tell() < total_bytes:\n",
    "            queries = np.fromfile(file, dtype='uint32', count=1)[0]\n",
    "            batch += 1\n",
    "\n",
    "            vector_data = np.fromfile(file, dtype='float32', count=queries * 104).reshape(queries, -1)\n",
    "\n",
    "            for vector in range(queries):\n",
    "                row = [batch, vector, queries] + vector_data[vector].tolist()\n",
    "                data.append(row)\n",
    "                    \n",
    "    res = pd.DataFrame(data, columns=columns)\n",
    "\n",
    "    save_to_path = 'data\\\\' + path.split('\\\\')[-1].split(\".\")[0]\n",
    "\n",
    "    try: os.makedir('data')\n",
    "    except: pass\n",
    "\n",
    "    os.chdir('..')\n",
    "\n",
    "    res.to_parquet(save_to_path + \".parquet\")\n",
    "\n",
    "    res.to_csv(save_to_path + \".csv\")\n",
    "\n",
    "    os.chdir('just_python')\n",
    "\n",
    "get_queries('data_in_binary\\dummy-queries.bin')\n",
    "\n",
    "get_queries('data_in_binary\\contest-queries-release-1m.bin')\n"
   ]
  }
 ],
 "metadata": {
  "kernelspec": {
   "display_name": "spark",
   "language": "python",
   "name": "python3"
  },
  "language_info": {
   "codemirror_mode": {
    "name": "ipython",
    "version": 3
   },
   "file_extension": ".py",
   "mimetype": "text/x-python",
   "name": "python",
   "nbconvert_exporter": "python",
   "pygments_lexer": "ipython3",
   "version": "3.10.14"
  }
 },
 "nbformat": 4,
 "nbformat_minor": 2
}
