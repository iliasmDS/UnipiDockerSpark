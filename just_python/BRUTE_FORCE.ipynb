{
 "cells": [
  {
   "cell_type": "code",
   "execution_count": 1,
   "metadata": {},
   "outputs": [],
   "source": [
    "from sklearn.neighbors import NearestNeighbors\n",
    "\n",
    "import pandas as pd\n",
    "\n",
    "import numpy as np\n",
    "\n",
    "import os\n",
    "\n",
    "os.chdir('..')"
   ]
  },
  {
   "cell_type": "code",
   "execution_count": 2,
   "metadata": {},
   "outputs": [],
   "source": [
    "data_path = r'data/dummy-data.csv'\n",
    "\n",
    "queries_path = r'data/dummy-queries.csv'"
   ]
  },
  {
   "cell_type": "code",
   "execution_count": 3,
   "metadata": {},
   "outputs": [],
   "source": [
    "data = pd.read_csv(data_path).astype(float)"
   ]
  },
  {
   "cell_type": "code",
   "execution_count": 4,
   "metadata": {},
   "outputs": [],
   "source": [
    "queries = pd.read_csv(queries_path).astype(float)"
   ]
  },
  {
   "cell_type": "code",
   "execution_count": 5,
   "metadata": {},
   "outputs": [],
   "source": [
    "def get_subset(data, query_type, v, l, r):\n",
    "        \n",
    "    if query_type == 1.0:\n",
    "\n",
    "        return data[data['C'] == v]\n",
    "\n",
    "    elif query_type == 2.0:\n",
    "\n",
    "        return data[(data['T'] >= l) & (data['T'] <= r)]\n",
    "\n",
    "    elif query_type == 3.0:\n",
    "\n",
    "        return data[(data['C'] == v) & ((data['T'] >= l) & (data['T'] <= r))]\n",
    "    \n",
    "    return data"
   ]
  },
  {
   "cell_type": "code",
   "execution_count": 6,
   "metadata": {},
   "outputs": [],
   "source": [
    "def conditional_brute_force_knn_search(data, queries):\n",
    "\n",
    "    k = 100\n",
    "\n",
    "    results = pd.DataFrame(columns = ['query_vector', 'Distance', 'data_vector', 'query_type', 'C', 'v', 'l', 'T', 'r'])\n",
    "\n",
    "    for index, row in queries.iterrows():\n",
    "\n",
    "        result_index = 0 + index * k\n",
    "\n",
    "        query_type = row['query_type']\n",
    "\n",
    "        v = row['v']\n",
    "\n",
    "        l = row['l']\n",
    "\n",
    "        r = row['r']\n",
    "\n",
    "        query_id = row['vector']\n",
    "\n",
    "        query_vector = row.filter(like='f').values\n",
    "\n",
    "        subset = get_subset(data, query_type, v, l, r)\n",
    "        \n",
    "        find_neighbor_model = NearestNeighbors(n_neighbors=k, algorithm='brute')\n",
    "\n",
    "        find_neighbor_model.fit(subset.filter(like='f').values)\n",
    "\n",
    "        distance, data_indexes = find_neighbor_model.kneighbors(query_vector.reshape(1, -1))\n",
    "\n",
    "        loop = 0\n",
    "\n",
    "        for d_i in data_indexes.flatten():\n",
    "            \n",
    "            results.loc[result_index + loop, ['data_vector']] = data.loc[d_i, 'vector']\n",
    "\n",
    "            C = data.loc[d_i, 'C']\n",
    "\n",
    "            T = data.loc[d_i, 'T']\n",
    "\n",
    "            results.loc[result_index + loop, 'query_vector'] = query_id\n",
    "\n",
    "            results.loc[result_index + loop, 'Distance'] = distance.flatten()[loop]\n",
    "\n",
    "            results.loc[result_index + loop, ['query_type', 'C', 'v', 'l', 'T', 'r']] = (query_type, C, v, l, T, r)\n",
    "\n",
    "            loop += 1\n",
    "\n",
    "    return results"
   ]
  },
  {
   "cell_type": "code",
   "execution_count": 7,
   "metadata": {},
   "outputs": [],
   "source": [
    "res = conditional_brute_force_knn_search(data, queries)\n",
    "\n",
    "res.to_parquet('output/BRUTE_FORCE.parquet')"
   ]
  },
  {
   "cell_type": "code",
   "execution_count": null,
   "metadata": {},
   "outputs": [],
   "source": []
  }
 ],
 "metadata": {
  "kernelspec": {
   "display_name": "spark",
   "language": "python",
   "name": "python3"
  },
  "language_info": {
   "codemirror_mode": {
    "name": "ipython",
    "version": 3
   },
   "file_extension": ".py",
   "mimetype": "text/x-python",
   "name": "python",
   "nbconvert_exporter": "python",
   "pygments_lexer": "ipython3",
   "version": "3.10.14"
  }
 },
 "nbformat": 4,
 "nbformat_minor": 2
}
