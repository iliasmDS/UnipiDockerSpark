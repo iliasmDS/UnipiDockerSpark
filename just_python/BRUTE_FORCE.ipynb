{
 "cells": [
  {
   "cell_type": "code",
   "execution_count": 1,
   "metadata": {},
   "outputs": [],
   "source": [
    "from sklearn.neighbors import NearestNeighbors\n",
    "\n",
    "import pandas as pd\n",
    "\n",
    "import os\n",
    "\n",
    "os.chdir('..')"
   ]
  },
  {
   "cell_type": "code",
   "execution_count": 2,
   "metadata": {},
   "outputs": [],
   "source": [
    "data_path = r'data/dummy-data.csv'\n",
    "\n",
    "queries_path = r'data/dummy-queries.csv'"
   ]
  },
  {
   "cell_type": "code",
   "execution_count": 3,
   "metadata": {},
   "outputs": [],
   "source": [
    "data = pd.read_csv(data_path).astype(float)"
   ]
  },
  {
   "cell_type": "code",
   "execution_count": 4,
   "metadata": {},
   "outputs": [],
   "source": [
    "queries = pd.read_csv(queries_path).astype(float)"
   ]
  },
  {
   "cell_type": "code",
   "execution_count": 5,
   "metadata": {},
   "outputs": [],
   "source": [
    "def get_subset(data, query_type, v, l, r):\n",
    "\n",
    "    if query_type == 1.0:\n",
    "\n",
    "        return data[data['C'] == v]\n",
    "    \n",
    "    elif query_type == 2.0:\n",
    "\n",
    "        return data[(data['T'] >= l) & (data['T'] <= r)]\n",
    "    \n",
    "    elif query_type == 3.0:\n",
    "\n",
    "        return data[(data['C'] == v) & ((data['T'] >= l) & (data['T'] <= r))]\n",
    "    \n",
    "    return data"
   ]
  },
  {
   "cell_type": "code",
   "execution_count": 6,
   "metadata": {},
   "outputs": [],
   "source": [
    "def conditional_brute_force_knn_search(data, queries):\n",
    "    k = 100\n",
    "    results = []\n",
    "    \n",
    "    prev_subset = None\n",
    "    prev_query_type, prev_v, prev_l, prev_r = None, None, None, None\n",
    "    knn_model = None\n",
    "\n",
    "    for index, row in queries.iterrows():\n",
    "\n",
    "        query_type = row['query_type']\n",
    "        v = row['v']\n",
    "        l = row['l']\n",
    "        r = row['r']\n",
    "        query_id = row['vector']\n",
    "        query_vector = row.filter(like='f').values\n",
    "        \n",
    "        if (query_type != prev_query_type) or (v != prev_v) or (l != prev_l) or (r != prev_r):\n",
    "            subset = get_subset(data, query_type, v, l, r)\n",
    "            knn_model = NearestNeighbors(n_neighbors=k, algorithm='brute')\n",
    "            knn_model.fit(subset.filter(like='f').values)\n",
    "\n",
    "            prev_subset = subset\n",
    "\n",
    "            prev_query_type, prev_v, prev_l, prev_r = query_type, v, l, r\n",
    "\n",
    "        else:\n",
    "\n",
    "            subset = prev_subset\n",
    "\n",
    "        distances, data_indexes = knn_model.kneighbors(query_vector.reshape(1, -1))\n",
    "\n",
    "        for loop, d_i in enumerate(data_indexes.flatten()):\n",
    "\n",
    "            result = {\n",
    "                'query_vector': query_id,\n",
    "                'Distance': distances.flatten()[loop],\n",
    "                'data_vector': subset.iloc[d_i]['vector'],\n",
    "                'query_type': query_type,\n",
    "                'C': subset.iloc[d_i]['C'],\n",
    "                'v': v,\n",
    "                'l': l,\n",
    "                'T': subset.iloc[d_i]['T'],\n",
    "                'r': r\n",
    "                }\n",
    "\n",
    "            results.append(result)\n",
    "\n",
    "    results_df = pd.DataFrame(results)\n",
    "\n",
    "    return results_df"
   ]
  },
  {
   "cell_type": "code",
   "execution_count": 7,
   "metadata": {},
   "outputs": [],
   "source": [
    "res = conditional_brute_force_knn_search(data, queries)\n",
    "\n",
    "res.to_parquet('output/BRUTE_FORCE.parquet')"
   ]
  },
  {
   "cell_type": "code",
   "execution_count": null,
   "metadata": {},
   "outputs": [],
   "source": []
  }
 ],
 "metadata": {
  "kernelspec": {
   "display_name": "spark",
   "language": "python",
   "name": "python3"
  },
  "language_info": {
   "codemirror_mode": {
    "name": "ipython",
    "version": 3
   },
   "file_extension": ".py",
   "mimetype": "text/x-python",
   "name": "python",
   "nbconvert_exporter": "python",
   "pygments_lexer": "ipython3",
   "version": "3.10.14"
  }
 },
 "nbformat": 4,
 "nbformat_minor": 2
}
